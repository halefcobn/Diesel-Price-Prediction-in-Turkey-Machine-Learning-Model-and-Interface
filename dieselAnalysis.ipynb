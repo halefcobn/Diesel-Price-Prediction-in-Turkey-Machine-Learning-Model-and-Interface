{
 "cells": [
  {
   "cell_type": "code",
   "execution_count": 2,
   "id": "initial_id",
   "metadata": {
    "ExecuteTime": {
     "end_time": "2024-01-03T22:46:55.189567Z",
     "start_time": "2024-01-03T22:46:55.078342Z"
    },
    "collapsed": true
   },
   "outputs": [],
   "source": [
    "import pandas as pd\n",
    "import numpy as np\n",
    "import seaborn as sns\n",
    "import matplotlib.pyplot as plt"
   ]
  },
  {
   "cell_type": "code",
   "execution_count": 3,
   "id": "88a9a6e644461a9a",
   "metadata": {
    "ExecuteTime": {
     "end_time": "2024-01-03T22:47:00.536873Z",
     "start_time": "2024-01-03T22:46:56.221687Z"
    },
    "collapsed": false
   },
   "outputs": [],
   "source": [
    "df = pd.read_excel(\"diesel_data.xlsx\")"
   ]
  },
  {
   "cell_type": "code",
   "execution_count": 4,
   "id": "bdbfa2748fcd729a",
   "metadata": {
    "ExecuteTime": {
     "end_time": "2024-01-03T22:47:03.771469Z",
     "start_time": "2024-01-03T22:47:03.562731Z"
    },
    "collapsed": false
   },
   "outputs": [
    {
     "data": {
      "text/html": [
       "<div>\n",
       "<style scoped>\n",
       "    .dataframe tbody tr th:only-of-type {\n",
       "        vertical-align: middle;\n",
       "    }\n",
       "\n",
       "    .dataframe tbody tr th {\n",
       "        vertical-align: top;\n",
       "    }\n",
       "\n",
       "    .dataframe thead th {\n",
       "        text-align: right;\n",
       "    }\n",
       "</style>\n",
       "<table border=\"1\" class=\"dataframe\">\n",
       "  <thead>\n",
       "    <tr style=\"text-align: right;\">\n",
       "      <th></th>\n",
       "      <th>Date</th>\n",
       "      <th>Value-Added Tax (KDV)(%)</th>\n",
       "      <th>Excise Duty (OTV-TL/l)</th>\n",
       "      <th>USD / TRY rate(1$=TL)</th>\n",
       "      <th>Consumer Price Index (TUFE-Monthly Diff)</th>\n",
       "      <th>Turkey Diesel Usage (Tons)</th>\n",
       "      <th>Crude Oil Price (Brent-$)</th>\n",
       "      <th>Pump Selling Price(TL PER LİTER)</th>\n",
       "    </tr>\n",
       "  </thead>\n",
       "  <tbody>\n",
       "    <tr>\n",
       "      <th>0</th>\n",
       "      <td>2020-01-01</td>\n",
       "      <td>18</td>\n",
       "      <td>1.694</td>\n",
       "      <td>5.9540</td>\n",
       "      <td>1.35</td>\n",
       "      <td>1,780,152.261</td>\n",
       "      <td>66.00</td>\n",
       "      <td>6.493</td>\n",
       "    </tr>\n",
       "    <tr>\n",
       "      <th>1</th>\n",
       "      <td>2020-01-02</td>\n",
       "      <td>18</td>\n",
       "      <td>1.694</td>\n",
       "      <td>5.9537</td>\n",
       "      <td>1.35</td>\n",
       "      <td>1,780,152.261</td>\n",
       "      <td>66.25</td>\n",
       "      <td>6.493</td>\n",
       "    </tr>\n",
       "    <tr>\n",
       "      <th>2</th>\n",
       "      <td>2020-01-03</td>\n",
       "      <td>18</td>\n",
       "      <td>1.694</td>\n",
       "      <td>5.9674</td>\n",
       "      <td>1.35</td>\n",
       "      <td>1,780,152.261</td>\n",
       "      <td>68.60</td>\n",
       "      <td>6.493</td>\n",
       "    </tr>\n",
       "    <tr>\n",
       "      <th>3</th>\n",
       "      <td>2020-01-04</td>\n",
       "      <td>18</td>\n",
       "      <td>1.694</td>\n",
       "      <td>5.9824</td>\n",
       "      <td>1.35</td>\n",
       "      <td>1,780,152.261</td>\n",
       "      <td>68.60</td>\n",
       "      <td>6.493</td>\n",
       "    </tr>\n",
       "    <tr>\n",
       "      <th>4</th>\n",
       "      <td>2020-01-05</td>\n",
       "      <td>18</td>\n",
       "      <td>1.694</td>\n",
       "      <td>5.9824</td>\n",
       "      <td>1.35</td>\n",
       "      <td>1,780,152.261</td>\n",
       "      <td>68.60</td>\n",
       "      <td>6.493</td>\n",
       "    </tr>\n",
       "  </tbody>\n",
       "</table>\n",
       "</div>"
      ],
      "text/plain": [
       "        Date  Value-Added Tax (KDV)(%)  Excise Duty (OTV-TL/l)  \\\n",
       "0 2020-01-01                        18                   1.694   \n",
       "1 2020-01-02                        18                   1.694   \n",
       "2 2020-01-03                        18                   1.694   \n",
       "3 2020-01-04                        18                   1.694   \n",
       "4 2020-01-05                        18                   1.694   \n",
       "\n",
       "   USD / TRY rate(1$=TL)  Consumer Price Index (TUFE-Monthly Diff)  \\\n",
       "0                 5.9540                                      1.35   \n",
       "1                 5.9537                                      1.35   \n",
       "2                 5.9674                                      1.35   \n",
       "3                 5.9824                                      1.35   \n",
       "4                 5.9824                                      1.35   \n",
       "\n",
       "  Turkey Diesel Usage (Tons)  Crude Oil Price (Brent-$)  \\\n",
       "0              1,780,152.261                      66.00   \n",
       "1              1,780,152.261                      66.25   \n",
       "2              1,780,152.261                      68.60   \n",
       "3              1,780,152.261                      68.60   \n",
       "4              1,780,152.261                      68.60   \n",
       "\n",
       "   Pump Selling Price(TL PER LİTER)  \n",
       "0                             6.493  \n",
       "1                             6.493  \n",
       "2                             6.493  \n",
       "3                             6.493  \n",
       "4                             6.493  "
      ]
     },
     "execution_count": 4,
     "metadata": {},
     "output_type": "execute_result"
    }
   ],
   "source": [
    "df.head(5)"
   ]
  },
  {
   "cell_type": "code",
   "execution_count": 5,
   "id": "6ea829c474a17ea3",
   "metadata": {
    "ExecuteTime": {
     "end_time": "2024-01-03T22:47:06.124848Z",
     "start_time": "2024-01-03T22:47:05.908373Z"
    },
    "collapsed": false
   },
   "outputs": [
    {
     "data": {
      "text/plain": [
       "Date                                        datetime64[ns]\n",
       "Value-Added Tax (KDV)(%)                             int64\n",
       "Excise Duty (OTV-TL/l)                             float64\n",
       "USD / TRY rate(1$=TL)                              float64\n",
       "Consumer Price Index (TUFE-Monthly Diff)           float64\n",
       "Turkey Diesel Usage (Tons)                          object\n",
       "Crude Oil Price (Brent-$)                          float64\n",
       "Pump Selling Price(TL PER LİTER)                   float64\n",
       "dtype: object"
      ]
     },
     "execution_count": 5,
     "metadata": {},
     "output_type": "execute_result"
    }
   ],
   "source": [
    "df.dtypes"
   ]
  },
  {
   "cell_type": "code",
   "execution_count": 6,
   "id": "91df235e844481bd",
   "metadata": {
    "ExecuteTime": {
     "end_time": "2024-01-03T22:47:07.626720Z",
     "start_time": "2024-01-03T22:47:06.924703Z"
    },
    "collapsed": false
   },
   "outputs": [
    {
     "name": "stdout",
     "output_type": "stream",
     "text": [
      "<class 'pandas.core.frame.DataFrame'>\n",
      "RangeIndex: 1368 entries, 0 to 1367\n",
      "Data columns (total 8 columns):\n",
      " #   Column                                    Non-Null Count  Dtype         \n",
      "---  ------                                    --------------  -----         \n",
      " 0   Date                                      1368 non-null   datetime64[ns]\n",
      " 1   Value-Added Tax (KDV)(%)                  1368 non-null   int64         \n",
      " 2   Excise Duty (OTV-TL/l)                    1368 non-null   float64       \n",
      " 3   USD / TRY rate(1$=TL)                     1368 non-null   float64       \n",
      " 4   Consumer Price Index (TUFE-Monthly Diff)  1368 non-null   float64       \n",
      " 5   Turkey Diesel Usage (Tons)                1368 non-null   object        \n",
      " 6   Crude Oil Price (Brent-$)                 1368 non-null   float64       \n",
      " 7   Pump Selling Price(TL PER LİTER)          1368 non-null   float64       \n",
      "dtypes: datetime64[ns](1), float64(5), int64(1), object(1)\n",
      "memory usage: 85.6+ KB\n"
     ]
    }
   ],
   "source": [
    "df.info()"
   ]
  },
  {
   "cell_type": "markdown",
   "id": "9c0a6da448c30851",
   "metadata": {
    "collapsed": false
   },
   "source": [
    "we need to convert object to int by removing ',' in values and it will be float64.\n",
    "But let's make simple the name of columns"
   ]
  },
  {
   "cell_type": "code",
   "execution_count": 7,
   "id": "43df25b1189e40a5",
   "metadata": {
    "ExecuteTime": {
     "end_time": "2024-01-03T22:47:08.508056Z",
     "start_time": "2024-01-03T22:47:07.694877Z"
    },
    "collapsed": false
   },
   "outputs": [],
   "source": [
    "df.rename(columns={\n",
    "    'Value-Added Tax (KDV)(%)': 'KDV',\n",
    "    'Excise Duty (OTV-TL/l)': 'OTV',\n",
    "    'USD / TRY rate(1$=TL)': 'USD',\n",
    "    'Consumer Price Index (TUFE-Monthly Diff)': 'TUFE',\n",
    "    'Turkey Diesel Usage (Tons)': 'USAGE',\n",
    "    'Crude Oil Price (Brent-$)': 'CRUDE OIL',\n",
    "    'Pump Selling Price(TL PER LİTER)': 'PRICE',\n",
    "}, inplace=True)"
   ]
  },
  {
   "cell_type": "code",
   "execution_count": 8,
   "id": "c9545ae19d273716",
   "metadata": {
    "ExecuteTime": {
     "end_time": "2024-01-03T22:47:08.778788Z",
     "start_time": "2024-01-03T22:47:08.492260Z"
    },
    "collapsed": false
   },
   "outputs": [
    {
     "data": {
      "text/html": [
       "<div>\n",
       "<style scoped>\n",
       "    .dataframe tbody tr th:only-of-type {\n",
       "        vertical-align: middle;\n",
       "    }\n",
       "\n",
       "    .dataframe tbody tr th {\n",
       "        vertical-align: top;\n",
       "    }\n",
       "\n",
       "    .dataframe thead th {\n",
       "        text-align: right;\n",
       "    }\n",
       "</style>\n",
       "<table border=\"1\" class=\"dataframe\">\n",
       "  <thead>\n",
       "    <tr style=\"text-align: right;\">\n",
       "      <th></th>\n",
       "      <th>Date</th>\n",
       "      <th>KDV</th>\n",
       "      <th>OTV</th>\n",
       "      <th>USD</th>\n",
       "      <th>TUFE</th>\n",
       "      <th>USAGE</th>\n",
       "      <th>CRUDE OIL</th>\n",
       "      <th>PRICE</th>\n",
       "    </tr>\n",
       "  </thead>\n",
       "  <tbody>\n",
       "    <tr>\n",
       "      <th>0</th>\n",
       "      <td>2020-01-01</td>\n",
       "      <td>18</td>\n",
       "      <td>1.694</td>\n",
       "      <td>5.9540</td>\n",
       "      <td>1.35</td>\n",
       "      <td>1,780,152.261</td>\n",
       "      <td>66.00</td>\n",
       "      <td>6.493</td>\n",
       "    </tr>\n",
       "    <tr>\n",
       "      <th>1</th>\n",
       "      <td>2020-01-02</td>\n",
       "      <td>18</td>\n",
       "      <td>1.694</td>\n",
       "      <td>5.9537</td>\n",
       "      <td>1.35</td>\n",
       "      <td>1,780,152.261</td>\n",
       "      <td>66.25</td>\n",
       "      <td>6.493</td>\n",
       "    </tr>\n",
       "    <tr>\n",
       "      <th>2</th>\n",
       "      <td>2020-01-03</td>\n",
       "      <td>18</td>\n",
       "      <td>1.694</td>\n",
       "      <td>5.9674</td>\n",
       "      <td>1.35</td>\n",
       "      <td>1,780,152.261</td>\n",
       "      <td>68.60</td>\n",
       "      <td>6.493</td>\n",
       "    </tr>\n",
       "    <tr>\n",
       "      <th>3</th>\n",
       "      <td>2020-01-04</td>\n",
       "      <td>18</td>\n",
       "      <td>1.694</td>\n",
       "      <td>5.9824</td>\n",
       "      <td>1.35</td>\n",
       "      <td>1,780,152.261</td>\n",
       "      <td>68.60</td>\n",
       "      <td>6.493</td>\n",
       "    </tr>\n",
       "    <tr>\n",
       "      <th>4</th>\n",
       "      <td>2020-01-05</td>\n",
       "      <td>18</td>\n",
       "      <td>1.694</td>\n",
       "      <td>5.9824</td>\n",
       "      <td>1.35</td>\n",
       "      <td>1,780,152.261</td>\n",
       "      <td>68.60</td>\n",
       "      <td>6.493</td>\n",
       "    </tr>\n",
       "  </tbody>\n",
       "</table>\n",
       "</div>"
      ],
      "text/plain": [
       "        Date  KDV    OTV     USD  TUFE          USAGE  CRUDE OIL  PRICE\n",
       "0 2020-01-01   18  1.694  5.9540  1.35  1,780,152.261      66.00  6.493\n",
       "1 2020-01-02   18  1.694  5.9537  1.35  1,780,152.261      66.25  6.493\n",
       "2 2020-01-03   18  1.694  5.9674  1.35  1,780,152.261      68.60  6.493\n",
       "3 2020-01-04   18  1.694  5.9824  1.35  1,780,152.261      68.60  6.493\n",
       "4 2020-01-05   18  1.694  5.9824  1.35  1,780,152.261      68.60  6.493"
      ]
     },
     "execution_count": 8,
     "metadata": {},
     "output_type": "execute_result"
    }
   ],
   "source": [
    "df.head()"
   ]
  },
  {
   "cell_type": "code",
   "execution_count": 9,
   "id": "8e553559a83c29eb",
   "metadata": {
    "ExecuteTime": {
     "end_time": "2024-01-03T22:47:09.118027Z",
     "start_time": "2024-01-03T22:47:08.748273Z"
    },
    "collapsed": false
   },
   "outputs": [],
   "source": [
    "\n",
    "df['USAGE'] = df['USAGE'].str.replace(',', '').astype(float)\n"
   ]
  },
  {
   "cell_type": "code",
   "execution_count": 10,
   "id": "b5b936e818c8bd32",
   "metadata": {
    "ExecuteTime": {
     "end_time": "2024-01-03T22:47:09.668541Z",
     "start_time": "2024-01-03T22:47:09.095505Z"
    },
    "collapsed": false
   },
   "outputs": [
    {
     "data": {
      "text/plain": [
       "0       1780152.261\n",
       "1       1780152.261\n",
       "2       1780152.261\n",
       "3       1780152.261\n",
       "4       1780152.261\n",
       "           ...     \n",
       "1363    2276329.530\n",
       "1364    2276329.530\n",
       "1365    2276329.530\n",
       "1366    2276329.530\n",
       "1367    2276329.530\n",
       "Name: USAGE, Length: 1368, dtype: float64"
      ]
     },
     "execution_count": 10,
     "metadata": {},
     "output_type": "execute_result"
    }
   ],
   "source": [
    "df[\"USAGE\"]"
   ]
  },
  {
   "cell_type": "code",
   "execution_count": 11,
   "id": "2f0ccfbc2b0c22b3",
   "metadata": {
    "ExecuteTime": {
     "end_time": "2024-01-03T22:47:33.107590Z",
     "start_time": "2024-01-03T22:47:32.682940Z"
    },
    "collapsed": false
   },
   "outputs": [
    {
     "data": {
      "text/plain": [
       "Date         datetime64[ns]\n",
       "KDV                   int64\n",
       "OTV                 float64\n",
       "USD                 float64\n",
       "TUFE                float64\n",
       "USAGE               float64\n",
       "CRUDE OIL           float64\n",
       "PRICE               float64\n",
       "dtype: object"
      ]
     },
     "execution_count": 11,
     "metadata": {},
     "output_type": "execute_result"
    }
   ],
   "source": [
    "df.dtypes"
   ]
  },
  {
   "cell_type": "code",
   "execution_count": 12,
   "id": "de7556f847dc5e37",
   "metadata": {
    "ExecuteTime": {
     "end_time": "2024-01-03T22:47:34.660341Z",
     "start_time": "2024-01-03T22:47:34.138852Z"
    },
    "collapsed": false
   },
   "outputs": [
    {
     "data": {
      "text/html": [
       "<div>\n",
       "<style scoped>\n",
       "    .dataframe tbody tr th:only-of-type {\n",
       "        vertical-align: middle;\n",
       "    }\n",
       "\n",
       "    .dataframe tbody tr th {\n",
       "        vertical-align: top;\n",
       "    }\n",
       "\n",
       "    .dataframe thead th {\n",
       "        text-align: right;\n",
       "    }\n",
       "</style>\n",
       "<table border=\"1\" class=\"dataframe\">\n",
       "  <thead>\n",
       "    <tr style=\"text-align: right;\">\n",
       "      <th></th>\n",
       "      <th>Date</th>\n",
       "      <th>KDV</th>\n",
       "      <th>OTV</th>\n",
       "      <th>USD</th>\n",
       "      <th>TUFE</th>\n",
       "      <th>USAGE</th>\n",
       "      <th>CRUDE OIL</th>\n",
       "      <th>PRICE</th>\n",
       "    </tr>\n",
       "  </thead>\n",
       "  <tbody>\n",
       "    <tr>\n",
       "      <th>0</th>\n",
       "      <td>2020-01-01</td>\n",
       "      <td>18</td>\n",
       "      <td>1.694</td>\n",
       "      <td>5.9540</td>\n",
       "      <td>1.35</td>\n",
       "      <td>1780152.261</td>\n",
       "      <td>66.00</td>\n",
       "      <td>6.493</td>\n",
       "    </tr>\n",
       "    <tr>\n",
       "      <th>1</th>\n",
       "      <td>2020-01-02</td>\n",
       "      <td>18</td>\n",
       "      <td>1.694</td>\n",
       "      <td>5.9537</td>\n",
       "      <td>1.35</td>\n",
       "      <td>1780152.261</td>\n",
       "      <td>66.25</td>\n",
       "      <td>6.493</td>\n",
       "    </tr>\n",
       "    <tr>\n",
       "      <th>2</th>\n",
       "      <td>2020-01-03</td>\n",
       "      <td>18</td>\n",
       "      <td>1.694</td>\n",
       "      <td>5.9674</td>\n",
       "      <td>1.35</td>\n",
       "      <td>1780152.261</td>\n",
       "      <td>68.60</td>\n",
       "      <td>6.493</td>\n",
       "    </tr>\n",
       "    <tr>\n",
       "      <th>3</th>\n",
       "      <td>2020-01-04</td>\n",
       "      <td>18</td>\n",
       "      <td>1.694</td>\n",
       "      <td>5.9824</td>\n",
       "      <td>1.35</td>\n",
       "      <td>1780152.261</td>\n",
       "      <td>68.60</td>\n",
       "      <td>6.493</td>\n",
       "    </tr>\n",
       "    <tr>\n",
       "      <th>4</th>\n",
       "      <td>2020-01-05</td>\n",
       "      <td>18</td>\n",
       "      <td>1.694</td>\n",
       "      <td>5.9824</td>\n",
       "      <td>1.35</td>\n",
       "      <td>1780152.261</td>\n",
       "      <td>68.60</td>\n",
       "      <td>6.493</td>\n",
       "    </tr>\n",
       "  </tbody>\n",
       "</table>\n",
       "</div>"
      ],
      "text/plain": [
       "        Date  KDV    OTV     USD  TUFE        USAGE  CRUDE OIL  PRICE\n",
       "0 2020-01-01   18  1.694  5.9540  1.35  1780152.261      66.00  6.493\n",
       "1 2020-01-02   18  1.694  5.9537  1.35  1780152.261      66.25  6.493\n",
       "2 2020-01-03   18  1.694  5.9674  1.35  1780152.261      68.60  6.493\n",
       "3 2020-01-04   18  1.694  5.9824  1.35  1780152.261      68.60  6.493\n",
       "4 2020-01-05   18  1.694  5.9824  1.35  1780152.261      68.60  6.493"
      ]
     },
     "execution_count": 12,
     "metadata": {},
     "output_type": "execute_result"
    }
   ],
   "source": [
    "df.head()"
   ]
  },
  {
   "cell_type": "markdown",
   "id": "694053a34fdc9b64",
   "metadata": {
    "collapsed": false
   },
   "source": [
    "## We do not have any null value.\n",
    "We have 7 independent variables and 1 dependent variable and in total 8 column we have."
   ]
  },
  {
   "cell_type": "code",
   "execution_count": 13,
   "id": "5f5371353833e5dc",
   "metadata": {
    "ExecuteTime": {
     "end_time": "2024-01-03T22:47:36.560096Z",
     "start_time": "2024-01-03T22:47:35.772593Z"
    },
    "collapsed": false
   },
   "outputs": [
    {
     "data": {
      "text/html": [
       "<div>\n",
       "<style scoped>\n",
       "    .dataframe tbody tr th:only-of-type {\n",
       "        vertical-align: middle;\n",
       "    }\n",
       "\n",
       "    .dataframe tbody tr th {\n",
       "        vertical-align: top;\n",
       "    }\n",
       "\n",
       "    .dataframe thead th {\n",
       "        text-align: right;\n",
       "    }\n",
       "</style>\n",
       "<table border=\"1\" class=\"dataframe\">\n",
       "  <thead>\n",
       "    <tr style=\"text-align: right;\">\n",
       "      <th></th>\n",
       "      <th>Date</th>\n",
       "      <th>KDV</th>\n",
       "      <th>OTV</th>\n",
       "      <th>USD</th>\n",
       "      <th>TUFE</th>\n",
       "      <th>USAGE</th>\n",
       "      <th>CRUDE OIL</th>\n",
       "      <th>PRICE</th>\n",
       "    </tr>\n",
       "  </thead>\n",
       "  <tbody>\n",
       "    <tr>\n",
       "      <th>count</th>\n",
       "      <td>1368</td>\n",
       "      <td>1368.000000</td>\n",
       "      <td>1368.000000</td>\n",
       "      <td>1368.000000</td>\n",
       "      <td>1368.000000</td>\n",
       "      <td>1.368000e+03</td>\n",
       "      <td>1368.000000</td>\n",
       "      <td>1368.000000</td>\n",
       "    </tr>\n",
       "    <tr>\n",
       "      <th>mean</th>\n",
       "      <td>2021-11-14 12:00:00</td>\n",
       "      <td>18.133041</td>\n",
       "      <td>2.070631</td>\n",
       "      <td>13.097406</td>\n",
       "      <td>3.080592</td>\n",
       "      <td>2.119947e+06</td>\n",
       "      <td>303.781996</td>\n",
       "      <td>14.691075</td>\n",
       "    </tr>\n",
       "    <tr>\n",
       "      <th>min</th>\n",
       "      <td>2020-01-01 00:00:00</td>\n",
       "      <td>18.000000</td>\n",
       "      <td>0.000000</td>\n",
       "      <td>5.872300</td>\n",
       "      <td>0.040000</td>\n",
       "      <td>1.528046e+06</td>\n",
       "      <td>19.330000</td>\n",
       "      <td>5.133000</td>\n",
       "    </tr>\n",
       "    <tr>\n",
       "      <th>25%</th>\n",
       "      <td>2020-12-07 18:00:00</td>\n",
       "      <td>18.000000</td>\n",
       "      <td>1.694000</td>\n",
       "      <td>7.561550</td>\n",
       "      <td>1.130000</td>\n",
       "      <td>1.877727e+06</td>\n",
       "      <td>56.095000</td>\n",
       "      <td>6.493000</td>\n",
       "    </tr>\n",
       "    <tr>\n",
       "      <th>50%</th>\n",
       "      <td>2021-11-14 12:00:00</td>\n",
       "      <td>18.000000</td>\n",
       "      <td>2.056000</td>\n",
       "      <td>9.946500</td>\n",
       "      <td>2.130000</td>\n",
       "      <td>2.174069e+06</td>\n",
       "      <td>75.625000</td>\n",
       "      <td>8.568000</td>\n",
       "    </tr>\n",
       "    <tr>\n",
       "      <th>75%</th>\n",
       "      <td>2022-10-22 06:00:00</td>\n",
       "      <td>18.000000</td>\n",
       "      <td>2.056000</td>\n",
       "      <td>18.627725</td>\n",
       "      <td>3.540000</td>\n",
       "      <td>2.330828e+06</td>\n",
       "      <td>87.360000</td>\n",
       "      <td>22.110000</td>\n",
       "    </tr>\n",
       "    <tr>\n",
       "      <th>max</th>\n",
       "      <td>2023-09-29 00:00:00</td>\n",
       "      <td>20.000000</td>\n",
       "      <td>7.056000</td>\n",
       "      <td>27.465700</td>\n",
       "      <td>13.580000</td>\n",
       "      <td>2.654149e+06</td>\n",
       "      <td>45166.000000</td>\n",
       "      <td>39.181000</td>\n",
       "    </tr>\n",
       "    <tr>\n",
       "      <th>std</th>\n",
       "      <td>NaN</td>\n",
       "      <td>0.498562</td>\n",
       "      <td>1.446531</td>\n",
       "      <td>6.240954</td>\n",
       "      <td>2.971275</td>\n",
       "      <td>2.798118e+05</td>\n",
       "      <td>3213.646889</td>\n",
       "      <td>9.519796</td>\n",
       "    </tr>\n",
       "  </tbody>\n",
       "</table>\n",
       "</div>"
      ],
      "text/plain": [
       "                      Date          KDV          OTV          USD  \\\n",
       "count                 1368  1368.000000  1368.000000  1368.000000   \n",
       "mean   2021-11-14 12:00:00    18.133041     2.070631    13.097406   \n",
       "min    2020-01-01 00:00:00    18.000000     0.000000     5.872300   \n",
       "25%    2020-12-07 18:00:00    18.000000     1.694000     7.561550   \n",
       "50%    2021-11-14 12:00:00    18.000000     2.056000     9.946500   \n",
       "75%    2022-10-22 06:00:00    18.000000     2.056000    18.627725   \n",
       "max    2023-09-29 00:00:00    20.000000     7.056000    27.465700   \n",
       "std                    NaN     0.498562     1.446531     6.240954   \n",
       "\n",
       "              TUFE         USAGE     CRUDE OIL        PRICE  \n",
       "count  1368.000000  1.368000e+03   1368.000000  1368.000000  \n",
       "mean      3.080592  2.119947e+06    303.781996    14.691075  \n",
       "min       0.040000  1.528046e+06     19.330000     5.133000  \n",
       "25%       1.130000  1.877727e+06     56.095000     6.493000  \n",
       "50%       2.130000  2.174069e+06     75.625000     8.568000  \n",
       "75%       3.540000  2.330828e+06     87.360000    22.110000  \n",
       "max      13.580000  2.654149e+06  45166.000000    39.181000  \n",
       "std       2.971275  2.798118e+05   3213.646889     9.519796  "
      ]
     },
     "execution_count": 13,
     "metadata": {},
     "output_type": "execute_result"
    }
   ],
   "source": [
    "df.describe()"
   ]
  },
  {
   "cell_type": "code",
   "execution_count": 14,
   "id": "7debba5e3a5a857d",
   "metadata": {
    "ExecuteTime": {
     "end_time": "2024-01-03T22:47:36.971684Z",
     "start_time": "2024-01-03T22:47:36.272945Z"
    },
    "collapsed": false
   },
   "outputs": [],
   "source": [
    "#df.to_excel('lastData2.xlsx', index=False)"
   ]
  },
  {
   "cell_type": "code",
   "execution_count": 15,
   "id": "d1041aa1865d4ead",
   "metadata": {
    "ExecuteTime": {
     "end_time": "2024-01-03T22:47:38.244422Z",
     "start_time": "2024-01-03T22:47:37.717275Z"
    },
    "collapsed": false
   },
   "outputs": [
    {
     "name": "stdout",
     "output_type": "stream",
     "text": [
      "Date         0.882997\n",
      "KDV          0.577028\n",
      "OTV          0.659107\n",
      "USD          0.951320\n",
      "TUFE         0.469220\n",
      "USAGE        0.060717\n",
      "CRUDE OIL   -0.065582\n",
      "PRICE        1.000000\n",
      "Name: PRICE, dtype: float64\n"
     ]
    }
   ],
   "source": [
    "correlation_matrix = df.corr()\n",
    "\n",
    "correlation_with_price = correlation_matrix['PRICE']\n",
    "print(correlation_with_price)"
   ]
  },
  {
   "cell_type": "code",
   "execution_count": 16,
   "id": "2cb23a12f17d6164",
   "metadata": {
    "ExecuteTime": {
     "end_time": "2024-01-03T22:47:42.077134Z",
     "start_time": "2024-01-03T22:47:38.547833Z"
    },
    "collapsed": false
   },
   "outputs": [
    {
     "data": {
      "image/png": "[encoded data removed]",
      "text/plain": [
       "<Figure size 800x600 with 2 Axes>"
      ]
     },
     "metadata": {},
     "output_type": "display_data"
    }
   ],
   "source": [
    "plt.figure(figsize=(8, 6))\n",
    "sns.heatmap(correlation_matrix, annot=True, cmap='coolwarm')\n",
    "plt.title('Correlation Heatmap')\n",
    "plt.show()"
   ]
  },
  {
   "cell_type": "code",
   "execution_count": 17,
   "id": "f6b9c214258dead8",
   "metadata": {
    "ExecuteTime": {
     "end_time": "2024-01-03T22:47:43.247948Z",
     "start_time": "2024-01-03T22:47:41.933337Z"
    },
    "collapsed": false
   },
   "outputs": [
    {
     "data": {
      "image/png": "[encoded data removed]",
      "text/plain": [
       "<Figure size 800x600 with 1 Axes>"
      ]
     },
     "metadata": {},
     "output_type": "display_data"
    }
   ],
   "source": [
    "# Scatter plot\n",
    "plt.figure(figsize=(8, 6))\n",
    "plt.scatter(df['USD'], df['PRICE'], color='blue', alpha=0.9)\n",
    "plt.title('Relationship between CRUDE OIL and PRICE')\n",
    "plt.xlabel('CRUDE OIL')\n",
    "plt.ylabel('PRICE')\n",
    "plt.grid(True)\n",
    "plt.show()"
   ]
  },
  {
   "cell_type": "markdown",
   "id": "88168118b92e45e6",
   "metadata": {
    "collapsed": false
   },
   "source": [
    "Normalization and Standardization"
   ]
  },
  {
   "cell_type": "code",
   "execution_count": 18,
   "id": "d8f936ffef1dc4b1",
   "metadata": {
    "ExecuteTime": {
     "end_time": "2023-12-28T20:26:31.630643Z",
     "start_time": "2023-12-28T20:26:31.565743Z"
    },
    "collapsed": false
   },
   "outputs": [],
   "source": [
    "from sklearn.preprocessing import MinMaxScaler\n",
    "from sklearn.preprocessing import StandardScaler"
   ]
  },
  {
   "cell_type": "code",
   "execution_count": 19,
   "id": "e7035e3df1f0a73e",
   "metadata": {
    "ExecuteTime": {
     "end_time": "2023-12-28T20:26:35.772420Z",
     "start_time": "2023-12-28T20:26:35.612216Z"
    },
    "collapsed": false
   },
   "outputs": [
    {
     "data": {
      "text/html": [
       "<div>\n",
       "<style scoped>\n",
       "    .dataframe tbody tr th:only-of-type {\n",
       "        vertical-align: middle;\n",
       "    }\n",
       "\n",
       "    .dataframe tbody tr th {\n",
       "        vertical-align: top;\n",
       "    }\n",
       "\n",
       "    .dataframe thead th {\n",
       "        text-align: right;\n",
       "    }\n",
       "</style>\n",
       "<table border=\"1\" class=\"dataframe\">\n",
       "  <thead>\n",
       "    <tr style=\"text-align: right;\">\n",
       "      <th></th>\n",
       "      <th>Date</th>\n",
       "      <th>KDV</th>\n",
       "      <th>OTV</th>\n",
       "      <th>USD</th>\n",
       "      <th>TUFE</th>\n",
       "      <th>USAGE</th>\n",
       "      <th>CRUDE OIL</th>\n",
       "      <th>PRICE</th>\n",
       "    </tr>\n",
       "  </thead>\n",
       "  <tbody>\n",
       "    <tr>\n",
       "      <th>0</th>\n",
       "      <td>2020-01-01</td>\n",
       "      <td>0.0</td>\n",
       "      <td>0.240079</td>\n",
       "      <td>0.003784</td>\n",
       "      <td>0.096750</td>\n",
       "      <td>0.223875</td>\n",
       "      <td>0.001034</td>\n",
       "      <td>6.493</td>\n",
       "    </tr>\n",
       "    <tr>\n",
       "      <th>1</th>\n",
       "      <td>2020-01-02</td>\n",
       "      <td>0.0</td>\n",
       "      <td>0.240079</td>\n",
       "      <td>0.003770</td>\n",
       "      <td>0.096750</td>\n",
       "      <td>0.223875</td>\n",
       "      <td>0.001039</td>\n",
       "      <td>6.493</td>\n",
       "    </tr>\n",
       "    <tr>\n",
       "      <th>2</th>\n",
       "      <td>2020-01-03</td>\n",
       "      <td>0.0</td>\n",
       "      <td>0.240079</td>\n",
       "      <td>0.004404</td>\n",
       "      <td>0.096750</td>\n",
       "      <td>0.223875</td>\n",
       "      <td>0.001091</td>\n",
       "      <td>6.493</td>\n",
       "    </tr>\n",
       "    <tr>\n",
       "      <th>3</th>\n",
       "      <td>2020-01-04</td>\n",
       "      <td>0.0</td>\n",
       "      <td>0.240079</td>\n",
       "      <td>0.005099</td>\n",
       "      <td>0.096750</td>\n",
       "      <td>0.223875</td>\n",
       "      <td>0.001091</td>\n",
       "      <td>6.493</td>\n",
       "    </tr>\n",
       "    <tr>\n",
       "      <th>4</th>\n",
       "      <td>2020-01-05</td>\n",
       "      <td>0.0</td>\n",
       "      <td>0.240079</td>\n",
       "      <td>0.005099</td>\n",
       "      <td>0.096750</td>\n",
       "      <td>0.223875</td>\n",
       "      <td>0.001091</td>\n",
       "      <td>6.493</td>\n",
       "    </tr>\n",
       "    <tr>\n",
       "      <th>...</th>\n",
       "      <td>...</td>\n",
       "      <td>...</td>\n",
       "      <td>...</td>\n",
       "      <td>...</td>\n",
       "      <td>...</td>\n",
       "      <td>...</td>\n",
       "      <td>...</td>\n",
       "      <td>...</td>\n",
       "    </tr>\n",
       "    <tr>\n",
       "      <th>1363</th>\n",
       "      <td>2023-09-25</td>\n",
       "      <td>1.0</td>\n",
       "      <td>1.000000</td>\n",
       "      <td>0.987394</td>\n",
       "      <td>0.347858</td>\n",
       "      <td>0.664489</td>\n",
       "      <td>0.001638</td>\n",
       "      <td>39.181</td>\n",
       "    </tr>\n",
       "    <tr>\n",
       "      <th>1364</th>\n",
       "      <td>2023-09-26</td>\n",
       "      <td>1.0</td>\n",
       "      <td>1.000000</td>\n",
       "      <td>0.990701</td>\n",
       "      <td>0.347858</td>\n",
       "      <td>0.664489</td>\n",
       "      <td>0.001653</td>\n",
       "      <td>39.181</td>\n",
       "    </tr>\n",
       "    <tr>\n",
       "      <th>1365</th>\n",
       "      <td>2023-09-27</td>\n",
       "      <td>1.0</td>\n",
       "      <td>1.000000</td>\n",
       "      <td>0.992359</td>\n",
       "      <td>0.347858</td>\n",
       "      <td>0.664489</td>\n",
       "      <td>0.001710</td>\n",
       "      <td>39.181</td>\n",
       "    </tr>\n",
       "    <tr>\n",
       "      <th>1366</th>\n",
       "      <td>2023-09-28</td>\n",
       "      <td>1.0</td>\n",
       "      <td>1.000000</td>\n",
       "      <td>0.994832</td>\n",
       "      <td>0.347858</td>\n",
       "      <td>0.664489</td>\n",
       "      <td>0.001685</td>\n",
       "      <td>39.181</td>\n",
       "    </tr>\n",
       "    <tr>\n",
       "      <th>1367</th>\n",
       "      <td>2023-09-29</td>\n",
       "      <td>1.0</td>\n",
       "      <td>1.000000</td>\n",
       "      <td>1.000000</td>\n",
       "      <td>0.347858</td>\n",
       "      <td>0.664489</td>\n",
       "      <td>0.001614</td>\n",
       "      <td>39.181</td>\n",
       "    </tr>\n",
       "  </tbody>\n",
       "</table>\n",
       "<p>1368 rows × 8 columns</p>\n",
       "</div>"
      ],
      "text/plain": [
       "           Date  KDV       OTV       USD      TUFE     USAGE  CRUDE OIL  \\\n",
       "0    2020-01-01  0.0  0.240079  0.003784  0.096750  0.223875   0.001034   \n",
       "1    2020-01-02  0.0  0.240079  0.003770  0.096750  0.223875   0.001039   \n",
       "2    2020-01-03  0.0  0.240079  0.004404  0.096750  0.223875   0.001091   \n",
       "3    2020-01-04  0.0  0.240079  0.005099  0.096750  0.223875   0.001091   \n",
       "4    2020-01-05  0.0  0.240079  0.005099  0.096750  0.223875   0.001091   \n",
       "...         ...  ...       ...       ...       ...       ...        ...   \n",
       "1363 2023-09-25  1.0  1.000000  0.987394  0.347858  0.664489   0.001638   \n",
       "1364 2023-09-26  1.0  1.000000  0.990701  0.347858  0.664489   0.001653   \n",
       "1365 2023-09-27  1.0  1.000000  0.992359  0.347858  0.664489   0.001710   \n",
       "1366 2023-09-28  1.0  1.000000  0.994832  0.347858  0.664489   0.001685   \n",
       "1367 2023-09-29  1.0  1.000000  1.000000  0.347858  0.664489   0.001614   \n",
       "\n",
       "       PRICE  \n",
       "0      6.493  \n",
       "1      6.493  \n",
       "2      6.493  \n",
       "3      6.493  \n",
       "4      6.493  \n",
       "...      ...  \n",
       "1363  39.181  \n",
       "1364  39.181  \n",
       "1365  39.181  \n",
       "1366  39.181  \n",
       "1367  39.181  \n",
       "\n",
       "[1368 rows x 8 columns]"
      ]
     },
     "execution_count": 19,
     "metadata": {},
     "output_type": "execute_result"
    }
   ],
   "source": [
    "\n",
    "cols_to_normalize = df.columns.difference(['Date', 'PRICE'])\n",
    "\n",
    "# Creating a MinMaxScaler instance\n",
    "scaler = MinMaxScaler()\n",
    "\n",
    "# Normalizing selected columns\n",
    "df_normalized = df.copy()\n",
    "df_normalized[cols_to_normalize] = scaler.fit_transform(df[cols_to_normalize])\n",
    "df_normalized\n"
   ]
  },
  {
   "cell_type": "code",
   "execution_count": 20,
   "id": "84469e1b243a6d01",
   "metadata": {
    "ExecuteTime": {
     "end_time": "2023-12-28T20:26:44.703316Z",
     "start_time": "2023-12-28T20:26:44.543520Z"
    },
    "collapsed": false
   },
   "outputs": [],
   "source": [
    "cols_to_standardize = df_normalized.columns.difference(['Date', 'PRICE'])\n",
    "\n",
    "# Creating a StandardScaler instance\n",
    "scaler = StandardScaler()\n",
    "# Standardizing selected columns\n",
    "df_standarized = df_normalized.copy()\n",
    "df_standarized[cols_to_standardize] = scaler.fit_transform(df_standarized[cols_to_standardize])"
   ]
  },
  {
   "cell_type": "code",
   "execution_count": 21,
   "id": "a4cb73c8b069d3f1",
   "metadata": {
    "ExecuteTime": {
     "end_time": "2023-12-28T20:26:47.650184Z",
     "start_time": "2023-12-28T20:26:47.423467Z"
    },
    "collapsed": false
   },
   "outputs": [
    {
     "data": {
      "text/html": [
       "<div>\n",
       "<style scoped>\n",
       "    .dataframe tbody tr th:only-of-type {\n",
       "        vertical-align: middle;\n",
       "    }\n",
       "\n",
       "    .dataframe tbody tr th {\n",
       "        vertical-align: top;\n",
       "    }\n",
       "\n",
       "    .dataframe thead th {\n",
       "        text-align: right;\n",
       "    }\n",
       "</style>\n",
       "<table border=\"1\" class=\"dataframe\">\n",
       "  <thead>\n",
       "    <tr style=\"text-align: right;\">\n",
       "      <th></th>\n",
       "      <th>Date</th>\n",
       "      <th>KDV</th>\n",
       "      <th>OTV</th>\n",
       "      <th>USD</th>\n",
       "      <th>TUFE</th>\n",
       "      <th>USAGE</th>\n",
       "      <th>CRUDE OIL</th>\n",
       "      <th>PRICE</th>\n",
       "    </tr>\n",
       "  </thead>\n",
       "  <tbody>\n",
       "    <tr>\n",
       "      <th>0</th>\n",
       "      <td>2020-01-01</td>\n",
       "      <td>-0.266947</td>\n",
       "      <td>-0.260464</td>\n",
       "      <td>-1.145020</td>\n",
       "      <td>-0.582654</td>\n",
       "      <td>-1.214813</td>\n",
       "      <td>-0.074018</td>\n",
       "      <td>6.493</td>\n",
       "    </tr>\n",
       "    <tr>\n",
       "      <th>1</th>\n",
       "      <td>2020-01-02</td>\n",
       "      <td>-0.266947</td>\n",
       "      <td>-0.260464</td>\n",
       "      <td>-1.145068</td>\n",
       "      <td>-0.582654</td>\n",
       "      <td>-1.214813</td>\n",
       "      <td>-0.073941</td>\n",
       "      <td>6.493</td>\n",
       "    </tr>\n",
       "    <tr>\n",
       "      <th>2</th>\n",
       "      <td>2020-01-03</td>\n",
       "      <td>-0.266947</td>\n",
       "      <td>-0.260464</td>\n",
       "      <td>-1.142872</td>\n",
       "      <td>-0.582654</td>\n",
       "      <td>-1.214813</td>\n",
       "      <td>-0.073209</td>\n",
       "      <td>6.493</td>\n",
       "    </tr>\n",
       "    <tr>\n",
       "      <th>3</th>\n",
       "      <td>2020-01-04</td>\n",
       "      <td>-0.266947</td>\n",
       "      <td>-0.260464</td>\n",
       "      <td>-1.140468</td>\n",
       "      <td>-0.582654</td>\n",
       "      <td>-1.214813</td>\n",
       "      <td>-0.073209</td>\n",
       "      <td>6.493</td>\n",
       "    </tr>\n",
       "    <tr>\n",
       "      <th>4</th>\n",
       "      <td>2020-01-05</td>\n",
       "      <td>-0.266947</td>\n",
       "      <td>-0.260464</td>\n",
       "      <td>-1.140468</td>\n",
       "      <td>-0.582654</td>\n",
       "      <td>-1.214813</td>\n",
       "      <td>-0.073209</td>\n",
       "      <td>6.493</td>\n",
       "    </tr>\n",
       "    <tr>\n",
       "      <th>...</th>\n",
       "      <td>...</td>\n",
       "      <td>...</td>\n",
       "      <td>...</td>\n",
       "      <td>...</td>\n",
       "      <td>...</td>\n",
       "      <td>...</td>\n",
       "      <td>...</td>\n",
       "      <td>...</td>\n",
       "    </tr>\n",
       "    <tr>\n",
       "      <th>1363</th>\n",
       "      <td>2023-09-25</td>\n",
       "      <td>3.746060</td>\n",
       "      <td>3.447692</td>\n",
       "      <td>2.259470</td>\n",
       "      <td>0.562055</td>\n",
       "      <td>0.559089</td>\n",
       "      <td>-0.065523</td>\n",
       "      <td>39.181</td>\n",
       "    </tr>\n",
       "    <tr>\n",
       "      <th>1364</th>\n",
       "      <td>2023-09-26</td>\n",
       "      <td>3.746060</td>\n",
       "      <td>3.447692</td>\n",
       "      <td>2.270915</td>\n",
       "      <td>0.562055</td>\n",
       "      <td>0.559089</td>\n",
       "      <td>-0.065315</td>\n",
       "      <td>39.181</td>\n",
       "    </tr>\n",
       "    <tr>\n",
       "      <th>1365</th>\n",
       "      <td>2023-09-27</td>\n",
       "      <td>3.746060</td>\n",
       "      <td>3.447692</td>\n",
       "      <td>2.276653</td>\n",
       "      <td>0.562055</td>\n",
       "      <td>0.559089</td>\n",
       "      <td>-0.064509</td>\n",
       "      <td>39.181</td>\n",
       "    </tr>\n",
       "    <tr>\n",
       "      <th>1366</th>\n",
       "      <td>2023-09-28</td>\n",
       "      <td>3.746060</td>\n",
       "      <td>3.447692</td>\n",
       "      <td>2.285213</td>\n",
       "      <td>0.562055</td>\n",
       "      <td>0.559089</td>\n",
       "      <td>-0.064873</td>\n",
       "      <td>39.181</td>\n",
       "    </tr>\n",
       "    <tr>\n",
       "      <th>1367</th>\n",
       "      <td>2023-09-29</td>\n",
       "      <td>3.746060</td>\n",
       "      <td>3.447692</td>\n",
       "      <td>2.303101</td>\n",
       "      <td>0.562055</td>\n",
       "      <td>0.559089</td>\n",
       "      <td>-0.065863</td>\n",
       "      <td>39.181</td>\n",
       "    </tr>\n",
       "  </tbody>\n",
       "</table>\n",
       "<p>1368 rows × 8 columns</p>\n",
       "</div>"
      ],
      "text/plain": [
       "           Date       KDV       OTV       USD      TUFE     USAGE  CRUDE OIL  \\\n",
       "0    2020-01-01 -0.266947 -0.260464 -1.145020 -0.582654 -1.214813  -0.074018   \n",
       "1    2020-01-02 -0.266947 -0.260464 -1.145068 -0.582654 -1.214813  -0.073941   \n",
       "2    2020-01-03 -0.266947 -0.260464 -1.142872 -0.582654 -1.214813  -0.073209   \n",
       "3    2020-01-04 -0.266947 -0.260464 -1.140468 -0.582654 -1.214813  -0.073209   \n",
       "4    2020-01-05 -0.266947 -0.260464 -1.140468 -0.582654 -1.214813  -0.073209   \n",
       "...         ...       ...       ...       ...       ...       ...        ...   \n",
       "1363 2023-09-25  3.746060  3.447692  2.259470  0.562055  0.559089  -0.065523   \n",
       "1364 2023-09-26  3.746060  3.447692  2.270915  0.562055  0.559089  -0.065315   \n",
       "1365 2023-09-27  3.746060  3.447692  2.276653  0.562055  0.559089  -0.064509   \n",
       "1366 2023-09-28  3.746060  3.447692  2.285213  0.562055  0.559089  -0.064873   \n",
       "1367 2023-09-29  3.746060  3.447692  2.303101  0.562055  0.559089  -0.065863   \n",
       "\n",
       "       PRICE  \n",
       "0      6.493  \n",
       "1      6.493  \n",
       "2      6.493  \n",
       "3      6.493  \n",
       "4      6.493  \n",
       "...      ...  \n",
       "1363  39.181  \n",
       "1364  39.181  \n",
       "1365  39.181  \n",
       "1366  39.181  \n",
       "1367  39.181  \n",
       "\n",
       "[1368 rows x 8 columns]"
      ]
     },
     "execution_count": 21,
     "metadata": {},
     "output_type": "execute_result"
    }
   ],
   "source": [
    "df_standarized"
   ]
  },
  {
   "cell_type": "code",
   "execution_count": 22,
   "id": "10d00afc0dff7eab",
   "metadata": {
    "ExecuteTime": {
     "end_time": "2023-12-28T20:26:54.538854Z",
     "start_time": "2023-12-28T20:26:54.447491Z"
    },
    "collapsed": false
   },
   "outputs": [
    {
     "data": {
      "text/html": [
       "<div>\n",
       "<style scoped>\n",
       "    .dataframe tbody tr th:only-of-type {\n",
       "        vertical-align: middle;\n",
       "    }\n",
       "\n",
       "    .dataframe tbody tr th {\n",
       "        vertical-align: top;\n",
       "    }\n",
       "\n",
       "    .dataframe thead th {\n",
       "        text-align: right;\n",
       "    }\n",
       "</style>\n",
       "<table border=\"1\" class=\"dataframe\">\n",
       "  <thead>\n",
       "    <tr style=\"text-align: right;\">\n",
       "      <th></th>\n",
       "      <th>Date</th>\n",
       "      <th>KDV</th>\n",
       "      <th>OTV</th>\n",
       "      <th>USD</th>\n",
       "      <th>TUFE</th>\n",
       "      <th>USAGE</th>\n",
       "      <th>CRUDE OIL</th>\n",
       "      <th>PRICE</th>\n",
       "    </tr>\n",
       "  </thead>\n",
       "  <tbody>\n",
       "    <tr>\n",
       "      <th>0</th>\n",
       "      <td>2020-01-01</td>\n",
       "      <td>18</td>\n",
       "      <td>1.694</td>\n",
       "      <td>5.9540</td>\n",
       "      <td>1.35</td>\n",
       "      <td>1780152.261</td>\n",
       "      <td>66.00</td>\n",
       "      <td>6.493</td>\n",
       "    </tr>\n",
       "    <tr>\n",
       "      <th>1</th>\n",
       "      <td>2020-01-02</td>\n",
       "      <td>18</td>\n",
       "      <td>1.694</td>\n",
       "      <td>5.9537</td>\n",
       "      <td>1.35</td>\n",
       "      <td>1780152.261</td>\n",
       "      <td>66.25</td>\n",
       "      <td>6.493</td>\n",
       "    </tr>\n",
       "    <tr>\n",
       "      <th>2</th>\n",
       "      <td>2020-01-03</td>\n",
       "      <td>18</td>\n",
       "      <td>1.694</td>\n",
       "      <td>5.9674</td>\n",
       "      <td>1.35</td>\n",
       "      <td>1780152.261</td>\n",
       "      <td>68.60</td>\n",
       "      <td>6.493</td>\n",
       "    </tr>\n",
       "    <tr>\n",
       "      <th>3</th>\n",
       "      <td>2020-01-04</td>\n",
       "      <td>18</td>\n",
       "      <td>1.694</td>\n",
       "      <td>5.9824</td>\n",
       "      <td>1.35</td>\n",
       "      <td>1780152.261</td>\n",
       "      <td>68.60</td>\n",
       "      <td>6.493</td>\n",
       "    </tr>\n",
       "    <tr>\n",
       "      <th>4</th>\n",
       "      <td>2020-01-05</td>\n",
       "      <td>18</td>\n",
       "      <td>1.694</td>\n",
       "      <td>5.9824</td>\n",
       "      <td>1.35</td>\n",
       "      <td>1780152.261</td>\n",
       "      <td>68.60</td>\n",
       "      <td>6.493</td>\n",
       "    </tr>\n",
       "    <tr>\n",
       "      <th>...</th>\n",
       "      <td>...</td>\n",
       "      <td>...</td>\n",
       "      <td>...</td>\n",
       "      <td>...</td>\n",
       "      <td>...</td>\n",
       "      <td>...</td>\n",
       "      <td>...</td>\n",
       "      <td>...</td>\n",
       "    </tr>\n",
       "    <tr>\n",
       "      <th>1363</th>\n",
       "      <td>2023-09-25</td>\n",
       "      <td>20</td>\n",
       "      <td>7.056</td>\n",
       "      <td>27.1935</td>\n",
       "      <td>4.75</td>\n",
       "      <td>2276329.530</td>\n",
       "      <td>93.29</td>\n",
       "      <td>39.181</td>\n",
       "    </tr>\n",
       "    <tr>\n",
       "      <th>1364</th>\n",
       "      <td>2023-09-26</td>\n",
       "      <td>20</td>\n",
       "      <td>7.056</td>\n",
       "      <td>27.2649</td>\n",
       "      <td>4.75</td>\n",
       "      <td>2276329.530</td>\n",
       "      <td>93.96</td>\n",
       "      <td>39.181</td>\n",
       "    </tr>\n",
       "    <tr>\n",
       "      <th>1365</th>\n",
       "      <td>2023-09-27</td>\n",
       "      <td>20</td>\n",
       "      <td>7.056</td>\n",
       "      <td>27.3007</td>\n",
       "      <td>4.75</td>\n",
       "      <td>2276329.530</td>\n",
       "      <td>96.55</td>\n",
       "      <td>39.181</td>\n",
       "    </tr>\n",
       "    <tr>\n",
       "      <th>1366</th>\n",
       "      <td>2023-09-28</td>\n",
       "      <td>20</td>\n",
       "      <td>7.056</td>\n",
       "      <td>27.3541</td>\n",
       "      <td>4.75</td>\n",
       "      <td>2276329.530</td>\n",
       "      <td>95.38</td>\n",
       "      <td>39.181</td>\n",
       "    </tr>\n",
       "    <tr>\n",
       "      <th>1367</th>\n",
       "      <td>2023-09-29</td>\n",
       "      <td>20</td>\n",
       "      <td>7.056</td>\n",
       "      <td>27.4657</td>\n",
       "      <td>4.75</td>\n",
       "      <td>2276329.530</td>\n",
       "      <td>92.20</td>\n",
       "      <td>39.181</td>\n",
       "    </tr>\n",
       "  </tbody>\n",
       "</table>\n",
       "<p>1368 rows × 8 columns</p>\n",
       "</div>"
      ],
      "text/plain": [
       "           Date  KDV    OTV      USD  TUFE        USAGE  CRUDE OIL   PRICE\n",
       "0    2020-01-01   18  1.694   5.9540  1.35  1780152.261      66.00   6.493\n",
       "1    2020-01-02   18  1.694   5.9537  1.35  1780152.261      66.25   6.493\n",
       "2    2020-01-03   18  1.694   5.9674  1.35  1780152.261      68.60   6.493\n",
       "3    2020-01-04   18  1.694   5.9824  1.35  1780152.261      68.60   6.493\n",
       "4    2020-01-05   18  1.694   5.9824  1.35  1780152.261      68.60   6.493\n",
       "...         ...  ...    ...      ...   ...          ...        ...     ...\n",
       "1363 2023-09-25   20  7.056  27.1935  4.75  2276329.530      93.29  39.181\n",
       "1364 2023-09-26   20  7.056  27.2649  4.75  2276329.530      93.96  39.181\n",
       "1365 2023-09-27   20  7.056  27.3007  4.75  2276329.530      96.55  39.181\n",
       "1366 2023-09-28   20  7.056  27.3541  4.75  2276329.530      95.38  39.181\n",
       "1367 2023-09-29   20  7.056  27.4657  4.75  2276329.530      92.20  39.181\n",
       "\n",
       "[1368 rows x 8 columns]"
      ]
     },
     "execution_count": 22,
     "metadata": {},
     "output_type": "execute_result"
    }
   ],
   "source": [
    "df"
   ]
  },
  {
   "cell_type": "markdown",
   "id": "d897a8f1b960a622",
   "metadata": {
    "collapsed": false
   },
   "source": [
    "Selecting the Features"
   ]
  },
  {
   "cell_type": "code",
   "execution_count": 23,
   "id": "18d980860055fa69",
   "metadata": {
    "ExecuteTime": {
     "end_time": "2023-12-28T20:27:18.463896Z",
     "start_time": "2023-12-28T20:27:16.352036Z"
    },
    "collapsed": false
   },
   "outputs": [],
   "source": [
    "from sklearn.ensemble import RandomForestRegressor\n",
    "from sklearn.model_selection import train_test_split\n",
    "from sklearn.ensemble import RandomForestRegressor\n",
    "from sklearn.metrics import mean_squared_error, r2_score\n",
    "from sklearn.metrics import mean_absolute_error, mean_absolute_percentage_error, explained_variance_score\n"
   ]
  },
  {
   "cell_type": "code",
   "execution_count": 24,
   "id": "d2703bf32f836361",
   "metadata": {
    "ExecuteTime": {
     "end_time": "2023-12-28T20:27:22.802735Z",
     "start_time": "2023-12-28T20:27:22.151950Z"
    },
    "collapsed": false
   },
   "outputs": [
    {
     "name": "stdout",
     "output_type": "stream",
     "text": [
      "KDV: 0.03649192420759958\n",
      "OTV: 0.04269841212743476\n",
      "USD: 0.8636415897135432\n",
      "TUFE: 0.0364646973693629\n",
      "USAGE: 0.014936382116275656\n",
      "CRUDE OIL: 0.005766994465783899\n"
     ]
    }
   ],
   "source": [
    "\n",
    "\n",
    "# Assuming df_standardized contains your standardized data with 'PRICE' as the target\n",
    "# (Continuing from previous examples)\n",
    "X = df_standarized.drop(['Date', 'PRICE'], axis=1)  # Features\n",
    "y = df_standarized['PRICE']  # Target\n",
    "\n",
    "# Random Forest model\n",
    "rf = RandomForestRegressor(n_estimators=100, random_state=42)\n",
    "rf.fit(X, y)\n",
    "\n",
    "# Feature importance\n",
    "feature_importance = rf.feature_importances_\n",
    "\n",
    "# Print feature importance scores\n",
    "for feature_name, importance in zip(X.columns, feature_importance):\n",
    "    print(f\"{feature_name}: {importance}\")"
   ]
  },
  {
   "cell_type": "markdown",
   "id": "a6c82276d2d3874",
   "metadata": {
    "collapsed": false
   },
   "source": [
    "ML MODEL"
   ]
  },
  {
   "cell_type": "code",
   "execution_count": 26,
   "id": "3c4f34f0cf8ee2ce",
   "metadata": {
    "ExecuteTime": {
     "end_time": "2023-12-28T20:27:35.392832Z",
     "start_time": "2023-12-28T20:27:33.314068Z"
    },
    "collapsed": false
   },
   "outputs": [],
   "source": [
    "X = df_standarized[['KDV', 'OTV', 'USD', 'TUFE', 'USAGE', 'CRUDE OIL']]  # Features\n",
    "y = df_standarized['PRICE']  # Target variable\n",
    "\n",
    "X_train, X_test, y_train, y_test = train_test_split(X, y, test_size=0.4, random_state=42)\n",
    "\n",
    "# Creating and training the Random Forest Regressor model\n",
    "rf_model = RandomForestRegressor(n_estimators=300, random_state=42)\n",
    "rf_model.fit(X_train, y_train)\n",
    "\n",
    "# Making predictions on the test set\n",
    "y_pred = rf_model.predict(X_test)\n"
   ]
  },
  {
   "cell_type": "code",
   "execution_count": 27,
   "id": "5dcf27cfc68d8d14",
   "metadata": {
    "ExecuteTime": {
     "end_time": "2023-12-28T20:27:36.930935Z",
     "start_time": "2023-12-28T20:27:36.792497Z"
    },
    "collapsed": false
   },
   "outputs": [
    {
     "name": "stdout",
     "output_type": "stream",
     "text": [
      "Mean Absolute Error (MAE): 0.046979233576686305\n",
      "Mean Absolute Percentage Error (MAPE): 0.0020206498687419883\n",
      "Explained Variance Score: 0.9989569006026294\n",
      "Mean Squared Error (MSE): 0.09484177510271773\n",
      "Root Mean Squared Error (RMSE): 0.3079639185078631\n",
      "R-squared (R²): 0.9989524106294606\n"
     ]
    }
   ],
   "source": [
    "\n",
    "\n",
    "# 'y_test' contains the actual 'PRICE' values \n",
    "# 'y_pred' contains predicted values\n",
    "\n",
    "mse = mean_squared_error(y_test, y_pred)\n",
    "rmse = np.sqrt(mse)\n",
    "r_squared = r2_score(y_test, y_pred)\n",
    "mae = mean_absolute_error(y_test, y_pred)\n",
    "mape = mean_absolute_percentage_error(y_test, y_pred)\n",
    "explained_var = explained_variance_score(y_test, y_pred)\n",
    "\n",
    "print(f\"Mean Absolute Error (MAE): {mae}\")\n",
    "print(f\"Mean Absolute Percentage Error (MAPE): {mape}\")\n",
    "print(f\"Explained Variance Score: {explained_var}\")\n",
    "print(f\"Mean Squared Error (MSE): {mse}\")\n",
    "print(f\"Root Mean Squared Error (RMSE): {rmse}\")\n",
    "print(f\"R-squared (R²): {r_squared}\")\n"
   ]
  },
  {
   "cell_type": "code",
   "execution_count": 28,
   "id": "10abbde2c11d34e0",
   "metadata": {
    "ExecuteTime": {
     "end_time": "2023-12-28T20:41:14.203307Z",
     "start_time": "2023-12-28T20:41:14.130556Z"
    },
    "collapsed": false
   },
   "outputs": [
    {
     "data": {
      "text/html": [
       "<div>\n",
       "<style scoped>\n",
       "    .dataframe tbody tr th:only-of-type {\n",
       "        vertical-align: middle;\n",
       "    }\n",
       "\n",
       "    .dataframe tbody tr th {\n",
       "        vertical-align: top;\n",
       "    }\n",
       "\n",
       "    .dataframe thead th {\n",
       "        text-align: right;\n",
       "    }\n",
       "</style>\n",
       "<table border=\"1\" class=\"dataframe\">\n",
       "  <thead>\n",
       "    <tr style=\"text-align: right;\">\n",
       "      <th></th>\n",
       "      <th>Date</th>\n",
       "      <th>KDV</th>\n",
       "      <th>OTV</th>\n",
       "      <th>USD</th>\n",
       "      <th>TUFE</th>\n",
       "      <th>USAGE</th>\n",
       "      <th>CRUDE OIL</th>\n",
       "      <th>PRICE</th>\n",
       "    </tr>\n",
       "  </thead>\n",
       "  <tbody>\n",
       "    <tr>\n",
       "      <th>0</th>\n",
       "      <td>2020-01-01</td>\n",
       "      <td>18</td>\n",
       "      <td>1.694</td>\n",
       "      <td>5.9540</td>\n",
       "      <td>1.35</td>\n",
       "      <td>1780152.261</td>\n",
       "      <td>66.00</td>\n",
       "      <td>6.493</td>\n",
       "    </tr>\n",
       "    <tr>\n",
       "      <th>1</th>\n",
       "      <td>2020-01-02</td>\n",
       "      <td>18</td>\n",
       "      <td>1.694</td>\n",
       "      <td>5.9537</td>\n",
       "      <td>1.35</td>\n",
       "      <td>1780152.261</td>\n",
       "      <td>66.25</td>\n",
       "      <td>6.493</td>\n",
       "    </tr>\n",
       "  </tbody>\n",
       "</table>\n",
       "</div>"
      ],
      "text/plain": [
       "        Date  KDV    OTV     USD  TUFE        USAGE  CRUDE OIL  PRICE\n",
       "0 2020-01-01   18  1.694  5.9540  1.35  1780152.261      66.00  6.493\n",
       "1 2020-01-02   18  1.694  5.9537  1.35  1780152.261      66.25  6.493"
      ]
     },
     "execution_count": 28,
     "metadata": {},
     "output_type": "execute_result"
    }
   ],
   "source": [
    "df.head(2)"
   ]
  },
  {
   "cell_type": "code",
   "execution_count": 29,
   "id": "34110ef66982c497",
   "metadata": {
    "ExecuteTime": {
     "end_time": "2023-12-28T20:42:06.731008Z",
     "start_time": "2023-12-28T20:42:06.651116Z"
    },
    "collapsed": false
   },
   "outputs": [],
   "source": [
    "# Assuming you have a trained Random Forest model (rforest_model)\n",
    "\n",
    "# Your new data for prediction (replace this with your actual data)\n",
    "new_data = pd.DataFrame({\n",
    "    'KDV': [18],\n",
    "    'OTV': [1.694],\n",
    "    'USD': [5.9540],\n",
    "    'TUFE': [1.35],\n",
    "    'USAGE': [1780152.261],\n",
    "    'CRUDE OIL':[66.00]\n",
    "    \n",
    "    # Add other feature values as needed...\n",
    "})\n"
   ]
  },
  {
   "cell_type": "code",
   "execution_count": 30,
   "id": "a460ef271c542a54",
   "metadata": {
    "ExecuteTime": {
     "end_time": "2023-12-28T20:42:08.457831Z",
     "start_time": "2023-12-28T20:42:08.266801Z"
    },
    "collapsed": false
   },
   "outputs": [
    {
     "name": "stdout",
     "output_type": "stream",
     "text": [
      "Predicted Price: 31.560133333333326\n"
     ]
    },
    {
     "name": "stderr",
     "output_type": "stream",
     "text": [
      "/Library/Frameworks/Python.framework/Versions/3.11/lib/python3.11/site-packages/sklearn/base.py:465: UserWarning: X does not have valid feature names, but RandomForestRegressor was fitted with feature names\n",
      "  warnings.warn(\n"
     ]
    }
   ],
   "source": [
    "scaler = StandardScaler()  # Initialize the StandardScaler\n",
    "scaler.fit(X_train)  # Fit the scaler on your training data\n",
    "\n",
    "# Transform the new data using the fitted scaler\n",
    "scaled_new_data = scaler.transform(new_data)\n",
    "\n",
    "# Predicting the price using the trained model\n",
    "predicted_price = rf_model.predict(scaled_new_data)\n",
    "\n",
    "print(\"Predicted Price:\", predicted_price[0])"
   ]
  },
  {
   "cell_type": "code",
   "execution_count": 31,
   "id": "55ebe623d6635fcd",
   "metadata": {
    "ExecuteTime": {
     "end_time": "2023-12-28T20:33:13.700844Z",
     "start_time": "2023-12-28T20:33:13.638528Z"
    },
    "collapsed": false
   },
   "outputs": [
    {
     "data": {
      "text/html": [
       "<div>\n",
       "<style scoped>\n",
       "    .dataframe tbody tr th:only-of-type {\n",
       "        vertical-align: middle;\n",
       "    }\n",
       "\n",
       "    .dataframe tbody tr th {\n",
       "        vertical-align: top;\n",
       "    }\n",
       "\n",
       "    .dataframe thead th {\n",
       "        text-align: right;\n",
       "    }\n",
       "</style>\n",
       "<table border=\"1\" class=\"dataframe\">\n",
       "  <thead>\n",
       "    <tr style=\"text-align: right;\">\n",
       "      <th></th>\n",
       "      <th>Date</th>\n",
       "      <th>KDV</th>\n",
       "      <th>OTV</th>\n",
       "      <th>USD</th>\n",
       "      <th>TUFE</th>\n",
       "      <th>USAGE</th>\n",
       "      <th>CRUDE OIL</th>\n",
       "      <th>PRICE</th>\n",
       "    </tr>\n",
       "  </thead>\n",
       "  <tbody>\n",
       "    <tr>\n",
       "      <th>0</th>\n",
       "      <td>2020-01-01</td>\n",
       "      <td>-0.266947</td>\n",
       "      <td>-0.260464</td>\n",
       "      <td>-1.145020</td>\n",
       "      <td>-0.582654</td>\n",
       "      <td>-1.214813</td>\n",
       "      <td>-0.074018</td>\n",
       "      <td>6.493</td>\n",
       "    </tr>\n",
       "    <tr>\n",
       "      <th>1</th>\n",
       "      <td>2020-01-02</td>\n",
       "      <td>-0.266947</td>\n",
       "      <td>-0.260464</td>\n",
       "      <td>-1.145068</td>\n",
       "      <td>-0.582654</td>\n",
       "      <td>-1.214813</td>\n",
       "      <td>-0.073941</td>\n",
       "      <td>6.493</td>\n",
       "    </tr>\n",
       "    <tr>\n",
       "      <th>2</th>\n",
       "      <td>2020-01-03</td>\n",
       "      <td>-0.266947</td>\n",
       "      <td>-0.260464</td>\n",
       "      <td>-1.142872</td>\n",
       "      <td>-0.582654</td>\n",
       "      <td>-1.214813</td>\n",
       "      <td>-0.073209</td>\n",
       "      <td>6.493</td>\n",
       "    </tr>\n",
       "    <tr>\n",
       "      <th>3</th>\n",
       "      <td>2020-01-04</td>\n",
       "      <td>-0.266947</td>\n",
       "      <td>-0.260464</td>\n",
       "      <td>-1.140468</td>\n",
       "      <td>-0.582654</td>\n",
       "      <td>-1.214813</td>\n",
       "      <td>-0.073209</td>\n",
       "      <td>6.493</td>\n",
       "    </tr>\n",
       "    <tr>\n",
       "      <th>4</th>\n",
       "      <td>2020-01-05</td>\n",
       "      <td>-0.266947</td>\n",
       "      <td>-0.260464</td>\n",
       "      <td>-1.140468</td>\n",
       "      <td>-0.582654</td>\n",
       "      <td>-1.214813</td>\n",
       "      <td>-0.073209</td>\n",
       "      <td>6.493</td>\n",
       "    </tr>\n",
       "    <tr>\n",
       "      <th>...</th>\n",
       "      <td>...</td>\n",
       "      <td>...</td>\n",
       "      <td>...</td>\n",
       "      <td>...</td>\n",
       "      <td>...</td>\n",
       "      <td>...</td>\n",
       "      <td>...</td>\n",
       "      <td>...</td>\n",
       "    </tr>\n",
       "    <tr>\n",
       "      <th>1363</th>\n",
       "      <td>2023-09-25</td>\n",
       "      <td>3.746060</td>\n",
       "      <td>3.447692</td>\n",
       "      <td>2.259470</td>\n",
       "      <td>0.562055</td>\n",
       "      <td>0.559089</td>\n",
       "      <td>-0.065523</td>\n",
       "      <td>39.181</td>\n",
       "    </tr>\n",
       "    <tr>\n",
       "      <th>1364</th>\n",
       "      <td>2023-09-26</td>\n",
       "      <td>3.746060</td>\n",
       "      <td>3.447692</td>\n",
       "      <td>2.270915</td>\n",
       "      <td>0.562055</td>\n",
       "      <td>0.559089</td>\n",
       "      <td>-0.065315</td>\n",
       "      <td>39.181</td>\n",
       "    </tr>\n",
       "    <tr>\n",
       "      <th>1365</th>\n",
       "      <td>2023-09-27</td>\n",
       "      <td>3.746060</td>\n",
       "      <td>3.447692</td>\n",
       "      <td>2.276653</td>\n",
       "      <td>0.562055</td>\n",
       "      <td>0.559089</td>\n",
       "      <td>-0.064509</td>\n",
       "      <td>39.181</td>\n",
       "    </tr>\n",
       "    <tr>\n",
       "      <th>1366</th>\n",
       "      <td>2023-09-28</td>\n",
       "      <td>3.746060</td>\n",
       "      <td>3.447692</td>\n",
       "      <td>2.285213</td>\n",
       "      <td>0.562055</td>\n",
       "      <td>0.559089</td>\n",
       "      <td>-0.064873</td>\n",
       "      <td>39.181</td>\n",
       "    </tr>\n",
       "    <tr>\n",
       "      <th>1367</th>\n",
       "      <td>2023-09-29</td>\n",
       "      <td>3.746060</td>\n",
       "      <td>3.447692</td>\n",
       "      <td>2.303101</td>\n",
       "      <td>0.562055</td>\n",
       "      <td>0.559089</td>\n",
       "      <td>-0.065863</td>\n",
       "      <td>39.181</td>\n",
       "    </tr>\n",
       "  </tbody>\n",
       "</table>\n",
       "<p>1368 rows × 8 columns</p>\n",
       "</div>"
      ],
      "text/plain": [
       "           Date       KDV       OTV       USD      TUFE     USAGE  CRUDE OIL  \\\n",
       "0    2020-01-01 -0.266947 -0.260464 -1.145020 -0.582654 -1.214813  -0.074018   \n",
       "1    2020-01-02 -0.266947 -0.260464 -1.145068 -0.582654 -1.214813  -0.073941   \n",
       "2    2020-01-03 -0.266947 -0.260464 -1.142872 -0.582654 -1.214813  -0.073209   \n",
       "3    2020-01-04 -0.266947 -0.260464 -1.140468 -0.582654 -1.214813  -0.073209   \n",
       "4    2020-01-05 -0.266947 -0.260464 -1.140468 -0.582654 -1.214813  -0.073209   \n",
       "...         ...       ...       ...       ...       ...       ...        ...   \n",
       "1363 2023-09-25  3.746060  3.447692  2.259470  0.562055  0.559089  -0.065523   \n",
       "1364 2023-09-26  3.746060  3.447692  2.270915  0.562055  0.559089  -0.065315   \n",
       "1365 2023-09-27  3.746060  3.447692  2.276653  0.562055  0.559089  -0.064509   \n",
       "1366 2023-09-28  3.746060  3.447692  2.285213  0.562055  0.559089  -0.064873   \n",
       "1367 2023-09-29  3.746060  3.447692  2.303101  0.562055  0.559089  -0.065863   \n",
       "\n",
       "       PRICE  \n",
       "0      6.493  \n",
       "1      6.493  \n",
       "2      6.493  \n",
       "3      6.493  \n",
       "4      6.493  \n",
       "...      ...  \n",
       "1363  39.181  \n",
       "1364  39.181  \n",
       "1365  39.181  \n",
       "1366  39.181  \n",
       "1367  39.181  \n",
       "\n",
       "[1368 rows x 8 columns]"
      ]
     },
     "execution_count": 31,
     "metadata": {},
     "output_type": "execute_result"
    }
   ],
   "source": [
    "df_standarized"
   ]
  },
  {
   "cell_type": "markdown",
   "id": "f665e2b5cdff90e1",
   "metadata": {
    "collapsed": false
   },
   "source": [
    "Let's try RNN"
   ]
  },
  {
   "cell_type": "code",
   "execution_count": 32,
   "id": "fc4da2a2ebfb6552",
   "metadata": {
    "ExecuteTime": {
     "end_time": "2023-12-27T19:38:51.461437Z",
     "start_time": "2023-12-27T19:38:29.497389Z"
    },
    "collapsed": false
   },
   "outputs": [
    {
     "name": "stderr",
     "output_type": "stream",
     "text": [
      "2024-04-30 14:35:15.619813: I tensorflow/core/platform/cpu_feature_guard.cc:182] This TensorFlow binary is optimized to use available CPU instructions in performance-critical operations.\n",
      "To enable the following instructions: AVX2 FMA, in other operations, rebuild TensorFlow with the appropriate compiler flags.\n"
     ]
    }
   ],
   "source": [
    "from tensorflow.keras.models import Sequential\n",
    "from tensorflow.keras.layers import LSTM, Dense\n",
    "from sklearn.metrics import mean_squared_error, mean_absolute_error, r2_score\n"
   ]
  },
  {
   "cell_type": "markdown",
   "id": "12cc5ca8926669fe",
   "metadata": {
    "collapsed": false
   },
   "source": [
    "FEEDFORWARD NN MODEL"
   ]
  },
  {
   "cell_type": "code",
   "execution_count": 33,
   "id": "5d18ce7e780ec0e4",
   "metadata": {
    "ExecuteTime": {
     "end_time": "2023-12-27T19:39:00.172797Z",
     "start_time": "2023-12-27T19:38:51.482351Z"
    },
    "collapsed": false
   },
   "outputs": [
    {
     "name": "stdout",
     "output_type": "stream",
     "text": [
      "Epoch 1/10\n",
      "21/21 [==============================] - 2s 16ms/step - loss: 277.6198 - val_loss: 272.5501\n",
      "Epoch 2/10\n",
      "21/21 [==============================] - 0s 5ms/step - loss: 243.1852 - val_loss: 230.5155\n",
      "Epoch 3/10\n",
      "21/21 [==============================] - 0s 5ms/step - loss: 194.4414 - val_loss: 171.7993\n",
      "Epoch 4/10\n",
      "21/21 [==============================] - 0s 6ms/step - loss: 133.6678 - val_loss: 106.4799\n",
      "Epoch 5/10\n",
      "21/21 [==============================] - 0s 8ms/step - loss: 78.0398 - val_loss: 62.2263\n",
      "Epoch 6/10\n",
      "21/21 [==============================] - 0s 5ms/step - loss: 48.3899 - val_loss: 41.0742\n",
      "Epoch 7/10\n",
      "21/21 [==============================] - 0s 5ms/step - loss: 32.8683 - val_loss: 27.1191\n",
      "Epoch 8/10\n",
      "21/21 [==============================] - 0s 6ms/step - loss: 22.4414 - val_loss: 18.9433\n",
      "Epoch 9/10\n",
      "21/21 [==============================] - 0s 4ms/step - loss: 16.6055 - val_loss: 15.0504\n",
      "Epoch 10/10\n",
      "21/21 [==============================] - 0s 5ms/step - loss: 13.8923 - val_loss: 13.3602\n"
     ]
    }
   ],
   "source": [
    "from tensorflow.keras.models import Sequential\n",
    "from tensorflow.keras.layers import Dense\n",
    "from sklearn.model_selection import train_test_split\n",
    "\n",
    "X_train, X_val, y_train, y_val = train_test_split(X_train, y_train, test_size=0.2, random_state=42)\n",
    "\n",
    "model = Sequential()\n",
    "\n",
    "# Add Dense layers to create a feedforward neural network\n",
    "model.add(Dense(64, input_dim=X_train.shape[1], activation='relu'))  # Adjust input_dim and units as needed\n",
    "model.add(Dense(32, activation='relu'))  # Additional hidden layer(s), adjust units as needed\n",
    "model.add(Dense(1))  # Output layer, for regression tasks\n",
    "\n",
    "# Compile the model with appropriate loss and optimizer\n",
    "model.compile(loss='mean_squared_error', optimizer='adam')  # Adjust loss and optimizer as needed\n",
    "\n",
    "# Train the model with your training data\n",
    "history = model.fit(X_train, y_train, epochs=10, batch_size=32, validation_data=(X_val,y_val))\n"
   ]
  },
  {
   "cell_type": "code",
   "execution_count": 34,
   "id": "6b7068319cf6c86a",
   "metadata": {
    "ExecuteTime": {
     "end_time": "2023-12-27T19:39:01.645350Z",
     "start_time": "2023-12-27T19:39:00.186542Z"
    },
    "collapsed": false
   },
   "outputs": [
    {
     "name": "stdout",
     "output_type": "stream",
     "text": [
      "18/18 [==============================] - 0s 2ms/step\n",
      "Mean Squared Error (MSE): 14.377729799452865\n",
      "Mean Absolute Error (MAE): 2.726130997567281\n",
      "R-squared (R²): 0.8411885807274122\n"
     ]
    }
   ],
   "source": [
    "predictions = model.predict(X_test)\n",
    "\n",
    "# Calculate Mean Squared Error (MSE)\n",
    "mse = mean_squared_error(y_test, predictions)\n",
    "\n",
    "# Calculate Mean Absolute Error (MAE)\n",
    "mae = mean_absolute_error(y_test, predictions)\n",
    "\n",
    "# Calculate R-squared (R²)\n",
    "r2 = r2_score(y_test, predictions)\n",
    "\n",
    "print(f\"Mean Squared Error (MSE): {mse}\")\n",
    "print(f\"Mean Absolute Error (MAE): {mae}\")\n",
    "print(f\"R-squared (R²): {r2}\")\n"
   ]
  },
  {
   "cell_type": "markdown",
   "id": "de3ec2fff2dca131",
   "metadata": {
    "collapsed": false
   },
   "source": [
    "ARIMA MODEL"
   ]
  },
  {
   "cell_type": "code",
   "execution_count": 35,
   "id": "a3b895d18b2989e",
   "metadata": {
    "ExecuteTime": {
     "end_time": "2023-12-27T19:44:34.402831Z",
     "start_time": "2023-12-27T19:44:34.083926Z"
    },
    "collapsed": false
   },
   "outputs": [
    {
     "name": "stdout",
     "output_type": "stream",
     "text": [
      "ARIMA MODEL:\n",
      "Mean Squared Error (MSE): 56.38226494999997\n",
      "Mean Absolute Error (MAE): 5.103249999999999\n",
      "R-squared (R²): -0.8584024178785594\n"
     ]
    }
   ],
   "source": [
    "import pandas as pd\n",
    "from statsmodels.tsa.arima.model import ARIMA\n",
    "from sklearn.metrics import mean_squared_error, mean_absolute_error, r2_score\n",
    "\n",
    "# Load your time series data into a DataFrame (replace this with your data)\n",
    "# For example, assuming 'df' contains your data\n",
    "# df = pd.read_csv('your_data.csv')\n",
    "\n",
    "# Ensure chronological order based on the 'Date' column\n",
    "df.sort_values('Date', inplace=True)\n",
    "\n",
    "# Fit an ARIMA model (p,d,q) = (2,1,1) using the 'PRICE' column\n",
    "model_arima = ARIMA(df['PRICE'], order=(2, 1, 1))\n",
    "arima_results = model_arima.fit()\n",
    "\n",
    "# Forecast future values (adjust steps based on your needs)\n",
    "forecast_values = arima_results.forecast(steps=100)\n",
    "\n",
    "# True values for comparison (replace this with your test data)\n",
    "# Example: Using the last 10 true values for comparison based on the 'PRICE' column\n",
    "true_values = df['PRICE'].tail(100)\n",
    "\n",
    "# Calculate performance metrics: MSE, MAE, R-squared\n",
    "mse = mean_squared_error(true_values, forecast_values)\n",
    "mae = mean_absolute_error(true_values, forecast_values)\n",
    "r2 = r2_score(true_values, forecast_values)\n",
    "\n",
    "print(\"ARIMA MODEL:\")\n",
    "print(f\"Mean Squared Error (MSE): {mse}\")\n",
    "print(f\"Mean Absolute Error (MAE): {mae}\")\n",
    "print(f\"R-squared (R²): {r2}\")\n"
   ]
  },
  {
   "cell_type": "code",
   "execution_count": 45,
   "id": "c574165a9171930",
   "metadata": {
    "ExecuteTime": {
     "end_time": "2023-12-27T19:46:54.337741Z",
     "start_time": "2023-12-27T19:46:39.538012Z"
    },
    "collapsed": false
   },
   "outputs": [
    {
     "name": "stderr",
     "output_type": "stream",
     "text": [
      " This problem is unconstrained.\n"
     ]
    },
    {
     "name": "stdout",
     "output_type": "stream",
     "text": [
      "RUNNING THE L-BFGS-B CODE\n",
      "\n",
      "           * * *\n",
      "\n",
      "Machine precision = 2.220D-16\n",
      " N =            6     M =           10\n",
      "\n",
      "At X0         0 variables are exactly at the bounds\n",
      "\n",
      "At iterate    0    f=  7.13414D-01    |proj g|=  6.33980D-01\n",
      "\n",
      "At iterate    5    f=  6.19818D-01    |proj g|=  4.35096D-01\n",
      "\n",
      "At iterate   10    f=  5.75914D-01    |proj g|=  4.49751D-02\n",
      "\n",
      "At iterate   15    f=  5.73328D-01    |proj g|=  1.21452D-02\n",
      "\n",
      "At iterate   20    f=  5.73289D-01    |proj g|=  7.38150D-05\n",
      "\n",
      "           * * *\n",
      "\n",
      "Tit   = total number of iterations\n",
      "Tnf   = total number of function evaluations\n",
      "Tnint = total number of segments explored during Cauchy searches\n",
      "Skip  = number of BFGS updates skipped\n",
      "Nact  = number of active bounds at final generalized Cauchy point\n",
      "Projg = norm of the final projected gradient\n",
      "F     = final function value\n",
      "\n",
      "           * * *\n",
      "\n",
      "   N    Tit     Tnf  Tnint  Skip  Nact     Projg        F\n",
      "    6     22     31      1     0     0   1.073D-05   5.733D-01\n",
      "  F =  0.57328865357168080     \n",
      "\n",
      "CONVERGENCE: REL_REDUCTION_OF_F_<=_FACTR*EPSMCH             \n",
      "SARIMA MODEL:\n",
      "Mean Squared Error (MSE): 40.64995540337872\n",
      "Mean Absolute Error (MAE): 5.355236954611428\n",
      "R-squared (R²): -1.3101615806133298\n"
     ]
    }
   ],
   "source": [
    "import pandas as pd\n",
    "from statsmodels.tsa.statespace.sarimax import SARIMAX\n",
    "from sklearn.metrics import mean_squared_error, mean_absolute_error, r2_score\n",
    "\n",
    "# Load your time series data into a DataFrame (replace this with your data)\n",
    "# For example, assuming 'df' contains your data\n",
    "# df = pd.read_csv('your_data.csv')\n",
    "\n",
    "# Ensure chronological order based on the 'Date' column\n",
    "df.sort_values('Date', inplace=True)\n",
    "\n",
    "# Fit a SARIMA model (p, d, q) = (2, 1, 1), (P, D, Q, s) = (1, 1, 1, 12) for seasonal component\n",
    "model_sarima = SARIMAX(df['PRICE'], order=(2, 1, 1), seasonal_order=(1, 1, 1, 12))\n",
    "sarima_results = model_sarima.fit()\n",
    "\n",
    "# Forecast future values (adjust steps based on your needs)\n",
    "forecast_values = sarima_results.forecast(steps=90)\n",
    "\n",
    "# True values for comparison (replace this with your test data)\n",
    "# Example: Using the last 10 true values for comparison based on the 'PRICE' column\n",
    "true_values = df['PRICE'].tail(90)\n",
    "\n",
    "# Calculate performance metrics: MSE, MAE, R-squared\n",
    "mse = mean_squared_error(true_values, forecast_values)\n",
    "mae = mean_absolute_error(true_values, forecast_values)\n",
    "r2 = r2_score(true_values, forecast_values)\n",
    "\n",
    "print(\"SARIMA MODEL:\")\n",
    "print(f\"Mean Squared Error (MSE): {mse}\")\n",
    "print(f\"Mean Absolute Error (MAE): {mae}\")\n",
    "print(f\"R-squared (R²): {r2}\")\n"
   ]
  },
  {
   "cell_type": "code",
   "execution_count": null,
   "id": "dcb4af28a07e11cd",
   "metadata": {
    "collapsed": false
   },
   "outputs": [],
   "source": []
  }
 ],
 "metadata": {
  "kernelspec": {
   "display_name": "Python 3",
   "language": "python",
   "name": "python3"
  },
  "language_info": {
   "codemirror_mode": {
    "name": "ipython",
    "version": 3
   },
   "file_extension": ".py",
   "mimetype": "text/x-python",
   "name": "python",
   "nbconvert_exporter": "python",
   "pygments_lexer": "ipython3",
   "version": "3.11.5"
  }
 },
 "nbformat": 4,
 "nbformat_minor": 5
}
